
{
 "cells": [
  {
   "cell_type": "markdown",
   "metadata": {},
   "source": [
    "# Relax Data Science Challenge\n",
    "\n",
    "## 1. Defining an \"adopted user\"\n",
    "\n",
    "An \"adopted user\" is defined as a user who has logged into the product on three separate days in at least one seven-day period."
   ]
  },
  {
   "cell_type": "code",
   "execution_count": null,
   "metadata": {},
   "outputs": [],
   "source": [
    "import pandas as pd\n",
    "from sklearn.model_selection import train_test_split\n",
    "from sklearn.ensemble import RandomForestClassifier\n",
    "from sklearn.metrics import classification_report, accuracy_score\n",
    "import matplotlib.pyplot as plt\n",
    "import seaborn as sns\n",
    "\n",
    "# Load the datasets\n",
    "users_df = pd.read_csv(\"/home/ubuntu/upload/takehome_users.csv\", encoding=\"latin-1\")\n",
    "engagement_df = pd.read_csv(\"/home/ubuntu/upload/takehome_user_engagement.csv\")\n",
    "\n",
    "# Convert to datetime\n",
    "engagement_df[\"time_stamp\"] = pd.to_datetime(engagement_df[\"time_stamp\"])\n",
    "users_df[\"creation_time\"] = pd.to_datetime(users_df[\"creation_time\"])\n",
    "users_df[\"last_session_creation_time\"] = pd.to_datetime(users_df[\"last_session_creation_time\"], unit=\"s\")\n",
    "\n",
    "# Define adopted users\n",
    "engagement_df = engagement_df.sort_values([\"user_id\", \"time_stamp\"])\n",
    "def is_adopted_user(user_engagement):\n",
    "    user_engagement = user_engagement.set_index(\"time_stamp\").resample(\"D\").count()\n",
    "    for i in range(len(user_engagement) - 2):\n",
    "        if user_engagement.iloc[i:i+7][\"visited\"].sum() >= 3:\n",
    "            return 1\n",
    "    return 0\n",
    "\n",
    "adopted_users = engagement_df.groupby(\"user_id\").apply(is_adopted_user)\n",
    "adopted_users.name = \"adopted_user\"\n",
    "\n",
    "# Merge with users dataframe\n",
    "users_df = users_df.merge(adopted_users, left_on=\"object_id\", right_index=True, how=\"left\")\n",
    "users_df[\"adopted_user\"] = users_df[\"adopted_user\"].fillna(0)"
   ]
  },
  {
   "cell_type": "markdown",
   "metadata": {},
   "source": [
    "## 2. Data Exploration and Preprocessing\n",
    "\n",
    "We will perform some initial data exploration and preprocess the data for modeling."
   ]
  },
  {
   "cell_type": "code",
   "execution_count": null,
   "metadata": {},
   "outputs": [],
   "source": [
    "print(\"\nUsers dataframe info:\")\n",
    "users_df.info()\n",
    "print(\"\nUsers dataframe head:\")\n",
    "print(users_df.head())\n",
    "\n",
    "print(\"\nEngagement dataframe info:\")\n",
    "engagement_df.info()\n",
    "print(\"\nEngagement dataframe head:\")\n",
    "print(engagement_df.head())\n",
    "\n",
    "print(\"\nAdopted user counts:\")\n",
    "print(users_df[\"adopted_user\"].value_counts())"
   ]
  },
  {
   "cell_type": "markdown",
   "metadata": {},
   "source": [
    "## 3. Feature Engineering\n",
    "\n",
    "We will create new features that might be predictive of user adoption."
   ]
  },
  {
   "cell_type": "code",
   "execution_count": null,
   "metadata": {},
   "outputs": [],
   "source": [
    "users_df[\"account_age\"] = (users_df[\"last_session_creation_time\"] - users_df[\"creation_time\"]).dt.days\n",
    "users_df[\"account_age\"] = users_df[\"account_age\"].fillna(0)\n",
    "users_df[\"was_invited\"] = users_df[\"invited_by_user_id\"].apply(lambda x: 1 if pd.notnull(x) else 0)\n",
    "\n",
    "# One-hot encode categorical features\n",
    "users_df = pd.get_dummies(users_df, columns=[\"creation_source\"], prefix=\"creation_source\")\n",
    "\n",
    "# Select features and target\n",
    "features = [\n",
    "    \"opted_in_to_mailing_list\",\n",
    "    \"enabled_for_marketing_drip\",\n",
    "    \"account_age\",\n",
    "    \"was_invited\",\n",
    "    \"creation_source_GUEST_INVITE\",\n",
    "    \"creation_source_ORG_INVITE\",\n",
    "    \"creation_source_PERSONAL_PROJECTS\",\n",
    "    \"creation_source_SIGNUP\",\n",
    "    \"creation_source_SIGNUP_GOOGLE_AUTH\",\n",
    "]\n",
    "target = \"adopted_user\"\n",
    "\n",
    "X = users_df[features]\n",
    "y = users_df[target]"
   ]
  },
  {
   "cell_type": "markdown",
   "metadata": {},
   "source": [
    "## 4. Model Training and Evaluation\n",
    "\n",
    "We will train a RandomForestClassifier to predict user adoption and evaluate its performance."
   ]
  },
  {
   "cell_type": "code",
   "execution_count": null,
   "metadata": {},
   "outputs": [],
   "source": [
    "# Split data\n",
    "X_train, X_test, y_train, y_test = train_test_split(X, y, test_size=0.2, random_state=42, stratify=y)\n",
    "\n",
    "# Train a RandomForestClassifier\n",
    "clf = RandomForestClassifier(random_state=42, class_weight=\"balanced\")\n",
    "clf.fit(X_train, y_train)\n",
    "\n",
    "# Make predictions\n",
    "y_pred = clf.predict(X_test)\n",
    "\n",
    "# Evaluate the model\n",
    "print(\"Accuracy:\", accuracy_score(y_test, y_pred))\n",
    "print(\"\\nClassification Report:\")\n",
    "print(classification_report(y_test, y_pred))"
   ]
  },
  {
   "cell_type": "markdown",
   "metadata": {},
   "source": [
    "## 5. Feature Importance\n",
    "\n",
    "We will examine the importance of each feature in predicting user adoption."
   ]
  },
  {
   "cell_type": "code",
   "execution_count": null,
   "metadata": {},
   "outputs": [],
   "source": [
    "# Feature importances\n",
    "feature_importances = pd.DataFrame(clf.feature_importances_, index=X_train.columns, columns=[\"importance\"]).sort_values(\"importance\", ascending=False)\n",
    "print(\"\\nFeature Importances:\")\n",
    "print(feature_importances)\n",
    "\n",
    "# Visualize feature importances\n",
    "plt.figure(figsize=(10, 6))\n",
    "sns.barplot(x=feature_importances[\"importance\"], y=feature_importances.index)\n",
    "plt.title(\"Feature Importances for Adopted User Prediction\")\n",
    "plt.xlabel(\"Importance\")\n",
    "plt.ylabel(\"Feature\")\n",
    "plt.tight_layout()\n",
    "plt.savefig(\"/home/ubuntu/feature_importances.png\")\n",
    "plt.show()"
   ]
  }
 ],
 "metadata": {
  "kernelspec": {
   "display_name": "Python 3",
   "language": "python",
   "name": "python3"
  },
  "language_info": {
   "codemirror_mode": {
    "name": "ipython",
    "version": 3
   },
   "file_extension": ".py",
   "mimetype": "text/x-python",
   "name": "python",
   "nbconvert_exporter": "python",
   "pygments_lexer": "ipython3",
   "version": "3.11.0rc1"
  }
 },
 "nbformat": 4,
 "nbformat_minor": 4
}


